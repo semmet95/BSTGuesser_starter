{
  "nbformat": 4,
  "nbformat_minor": 0,
  "metadata": {
    "colab": {
      "name": "data_downlad.ipynb",
      "version": "0.3.2",
      "provenance": [],
      "collapsed_sections": [],
      "include_colab_link": true
    },
    "kernelspec": {
      "name": "python3",
      "display_name": "Python 3"
    }
  },
  "cells": [
    {
      "cell_type": "markdown",
      "metadata": {
        "id": "view-in-github",
        "colab_type": "text"
      },
      "source": [
        "<a href=\"https://colab.research.google.com/github/singh-95/BSTGuesser_starter/blob/master/data_downlad.ipynb\" target=\"_parent\"><img src=\"https://colab.research.google.com/assets/colab-badge.svg\" alt=\"Open In Colab\"/></a>"
      ]
    },
    {
      "cell_type": "code",
      "metadata": {
        "id": "3-xb0Q31OUH9",
        "colab_type": "code",
        "outputId": "faee057b-4e45-4f1f-de95-ee0808cab9c1",
        "colab": {
          "base_uri": "https://localhost:8080/",
          "height": 132
        }
      },
      "source": [
        "# mount google drive\n",
        "from google.colab import drive\n",
        "drive.mount('/content/drive')"
      ],
      "execution_count": 0,
      "outputs": [
        {
          "output_type": "stream",
          "text": [
            "Go to this URL in a browser: https://accounts.google.com/o/oauth2/auth?client_id=947318989803-6bn6qk8qdgf4n4g3pfee6491hc0brc4i.apps.googleusercontent.com&redirect_uri=urn%3Aietf%3Awg%3Aoauth%3A2.0%3Aoob&scope=email%20https%3A%2F%2Fwww.googleapis.com%2Fauth%2Fdocs.test%20https%3A%2F%2Fwww.googleapis.com%2Fauth%2Fdrive%20https%3A%2F%2Fwww.googleapis.com%2Fauth%2Fdrive.photos.readonly%20https%3A%2F%2Fwww.googleapis.com%2Fauth%2Fpeopleapi.readonly&response_type=code\n",
            "\n",
            "Enter your authorization code:\n",
            "··········\n",
            "Mounted at /content/drive\n"
          ],
          "name": "stdout"
        }
      ]
    },
    {
      "cell_type": "code",
      "metadata": {
        "id": "eSONBbZ6h6Yx",
        "colab_type": "code",
        "colab": {}
      },
      "source": [
        "# set up environment variables to download data from Kaggle\n",
        "# link to the competition: https://www.kaggle.com/c/aptos2019-blindness-detection\n",
        "import os\n",
        "os.environ['KAGGLE_USERNAME'] = 'supershakku'\n",
        "os.environ['KAGGLE_KEY'] = 'ee7979b98253676fcb015aa7d1661bf7'"
      ],
      "execution_count": 0,
      "outputs": []
    },
    {
      "cell_type": "code",
      "metadata": {
        "id": "24NhIePWOwnf",
        "colab_type": "code",
        "outputId": "5ff43a76-f215-42e6-cf33-c3eed7320fbe",
        "colab": {
          "base_uri": "https://localhost:8080/",
          "height": 302
        }
      },
      "source": [
        "!kaggle competitions download -c aptos2019-blindness-detection"
      ],
      "execution_count": 0,
      "outputs": [
        {
          "output_type": "stream",
          "text": [
            "Downloading train_images.zip to /content\n",
            "100% 8.01G/8.01G [04:08<00:00, 61.1MB/s]\n",
            "100% 8.01G/8.01G [04:08<00:00, 34.6MB/s]\n",
            "Downloading test_images.zip to /content\n",
            "100% 1.50G/1.50G [00:49<00:00, 24.7MB/s]\n",
            "100% 1.50G/1.50G [00:49<00:00, 32.5MB/s]\n",
            "Downloading train.csv to /content\n",
            "  0% 0.00/53.7k [00:00<?, ?B/s]\n",
            "100% 53.7k/53.7k [00:00<00:00, 53.8MB/s]\n",
            "Downloading test.csv to /content\n",
            "  0% 0.00/24.5k [00:00<?, ?B/s]\n",
            "100% 24.5k/24.5k [00:00<00:00, 21.5MB/s]\n",
            "Downloading sample_submission.csv to /content\n",
            "  0% 0.00/28.3k [00:00<?, ?B/s]\n",
            "100% 28.3k/28.3k [00:00<00:00, 24.7MB/s]\n"
          ],
          "name": "stdout"
        }
      ]
    },
    {
      "cell_type": "code",
      "metadata": {
        "id": "yLVGoMQvi5U5",
        "colab_type": "code",
        "colab": {}
      },
      "source": [
        "# move the csv documents to the drive\n",
        "!mv './sample_submission.csv' './drive/My Drive/Kaggle/APTOS/data/'\n",
        "!mv './test.csv' './drive/My Drive/Kaggle/APTOS/data/'\n",
        "!mv './train.csv' './drive/My Drive/Kaggle/APTOS/data/'"
      ],
      "execution_count": 0,
      "outputs": []
    },
    {
      "cell_type": "code",
      "metadata": {
        "id": "80LMxl2xk2YU",
        "colab_type": "code",
        "colab": {}
      },
      "source": [
        "# extract the images to the drive\n",
        "!unzip './test_images.zip' -d './drive/My Drive/Kaggle/APTOS/data/test_images'\n",
        "!unzip './train_images.zip' -d './drive/My Drive/Kaggle/APTOS/data/train_images'"
      ],
      "execution_count": 0,
      "outputs": []
    },
    {
      "cell_type": "code",
      "metadata": {
        "id": "Y0-suObfymz3",
        "colab_type": "code",
        "outputId": "5cc25cb0-881b-4d5a-fe7d-7881feaf7560",
        "colab": {
          "base_uri": "https://localhost:8080/",
          "height": 55
        }
      },
      "source": [
        "import os\n",
        "print(len(os.listdir('./drive/My Drive/Kaggle/APTOS/data/train_images')))\n",
        "print(len(os.listdir('./drive/My Drive/Kaggle/APTOS/data/test_images')))"
      ],
      "execution_count": 0,
      "outputs": [
        {
          "output_type": "stream",
          "text": [
            "3662\n",
            "1928\n"
          ],
          "name": "stdout"
        }
      ]
    },
    {
      "cell_type": "code",
      "metadata": {
        "id": "GgZHac0lyrUj",
        "colab_type": "code",
        "colab": {}
      },
      "source": [
        ""
      ],
      "execution_count": 0,
      "outputs": []
    }
  ]
}