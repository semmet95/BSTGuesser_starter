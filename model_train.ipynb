{
  "nbformat": 4,
  "nbformat_minor": 0,
  "metadata": {
    "colab": {
      "name": "model_train.ipynb",
      "version": "0.3.2",
      "provenance": [],
      "collapsed_sections": [],
      "include_colab_link": true
    },
    "kernelspec": {
      "name": "python3",
      "display_name": "Python 3"
    }
  },
  "cells": [
    {
      "cell_type": "markdown",
      "metadata": {
        "id": "view-in-github",
        "colab_type": "text"
      },
      "source": [
        "<a href=\"https://colab.research.google.com/github/singh-95/BSTGuesser_starter/blob/master/model_train.ipynb\" target=\"_parent\"><img src=\"https://colab.research.google.com/assets/colab-badge.svg\" alt=\"Open In Colab\"/></a>"
      ]
    },
    {
      "cell_type": "code",
      "metadata": {
        "id": "3-xb0Q31OUH9",
        "colab_type": "code",
        "outputId": "1aa9b984-3dc0-4a81-fe9b-f64f4b3404ed",
        "colab": {
          "base_uri": "https://localhost:8080/",
          "height": 56
        }
      },
      "source": [
        "# mount google drive\n",
        "from google.colab import drive\n",
        "drive.mount('/content/drive')"
      ],
      "execution_count": 2,
      "outputs": [
        {
          "output_type": "stream",
          "text": [
            "Drive already mounted at /content/drive; to attempt to forcibly remount, call drive.mount(\"/content/drive\", force_remount=True).\n"
          ],
          "name": "stdout"
        }
      ]
    },
    {
      "cell_type": "code",
      "metadata": {
        "id": "Y0-suObfymz3",
        "colab_type": "code",
        "outputId": "b9f3e474-2300-4db2-fcd7-8382cd2730f1",
        "colab": {
          "base_uri": "https://localhost:8080/",
          "height": 55
        }
      },
      "source": [
        "# making sure we have the correct number of images\n",
        "# train: 3662, test: 1928\n",
        "import os\n",
        "print(len(os.listdir('./drive/My Drive/Kaggle/APTOS/data/train_images')))\n",
        "print(len(os.listdir('./drive/My Drive/Kaggle/APTOS/data/test_images')))"
      ],
      "execution_count": 1,
      "outputs": [
        {
          "output_type": "stream",
          "text": [
            "3662\n",
            "1928\n"
          ],
          "name": "stdout"
        }
      ]
    },
    {
      "cell_type": "code",
      "metadata": {
        "id": "sZyRhCDE3TMZ",
        "colab_type": "code",
        "colab": {}
      },
      "source": [
        ""
      ],
      "execution_count": 0,
      "outputs": []
    },
    {
      "cell_type": "code",
      "metadata": {
        "id": "j7-ny0rM3TW7",
        "colab_type": "code",
        "colab": {}
      },
      "source": [
        ""
      ],
      "execution_count": 0,
      "outputs": []
    },
    {
      "cell_type": "code",
      "metadata": {
        "id": "eSONBbZ6h6Yx",
        "colab_type": "code",
        "colab": {}
      },
      "source": [
        "import os\n",
        "os.environ['KAGGLE_USERNAME'] = 'supershakku'\n",
        "os.environ['KAGGLE_KEY'] = 'ee7979b98253676fcb015aa7d1661bf7'"
      ],
      "execution_count": 0,
      "outputs": []
    },
    {
      "cell_type": "code",
      "metadata": {
        "id": "24NhIePWOwnf",
        "colab_type": "code",
        "outputId": "5ff43a76-f215-42e6-cf33-c3eed7320fbe",
        "colab": {
          "base_uri": "https://localhost:8080/",
          "height": 302
        }
      },
      "source": [
        "!kaggle competitions download -c aptos2019-blindness-detection"
      ],
      "execution_count": 0,
      "outputs": [
        {
          "output_type": "stream",
          "text": [
            "Downloading train_images.zip to /content\n",
            "100% 8.01G/8.01G [04:08<00:00, 61.1MB/s]\n",
            "100% 8.01G/8.01G [04:08<00:00, 34.6MB/s]\n",
            "Downloading test_images.zip to /content\n",
            "100% 1.50G/1.50G [00:49<00:00, 24.7MB/s]\n",
            "100% 1.50G/1.50G [00:49<00:00, 32.5MB/s]\n",
            "Downloading train.csv to /content\n",
            "  0% 0.00/53.7k [00:00<?, ?B/s]\n",
            "100% 53.7k/53.7k [00:00<00:00, 53.8MB/s]\n",
            "Downloading test.csv to /content\n",
            "  0% 0.00/24.5k [00:00<?, ?B/s]\n",
            "100% 24.5k/24.5k [00:00<00:00, 21.5MB/s]\n",
            "Downloading sample_submission.csv to /content\n",
            "  0% 0.00/28.3k [00:00<?, ?B/s]\n",
            "100% 28.3k/28.3k [00:00<00:00, 24.7MB/s]\n"
          ],
          "name": "stdout"
        }
      ]
    },
    {
      "cell_type": "code",
      "metadata": {
        "id": "yLVGoMQvi5U5",
        "colab_type": "code",
        "colab": {}
      },
      "source": [
        "!mv './sample_submission.csv' './drive/My Drive/Kaggle/APTOS/data/'\n",
        "!mv './test.csv' './drive/My Drive/Kaggle/APTOS/data/'\n",
        "!mv './train.csv' './drive/My Drive/Kaggle/APTOS/data/'"
      ],
      "execution_count": 0,
      "outputs": []
    },
    {
      "cell_type": "code",
      "metadata": {
        "id": "80LMxl2xk2YU",
        "colab_type": "code",
        "colab": {}
      },
      "source": [
        "!unzip './test_images.zip' -d './drive/My Drive/Kaggle/APTOS/data/test_images'\n",
        "!unzip './train_images.zip' -d './drive/My Drive/Kaggle/APTOS/data/train_images'"
      ],
      "execution_count": 0,
      "outputs": []
    },
    {
      "cell_type": "code",
      "metadata": {
        "id": "GgZHac0lyrUj",
        "colab_type": "code",
        "colab": {}
      },
      "source": [
        ""
      ],
      "execution_count": 0,
      "outputs": []
    }
  ]
}